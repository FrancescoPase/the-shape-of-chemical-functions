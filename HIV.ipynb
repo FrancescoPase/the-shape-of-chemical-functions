{
 "cells": [
  {
   "cell_type": "markdown",
   "metadata": {},
   "source": [
    "# Shape of Molecules #\n",
    "\n",
    "In this notebook we provide an innovative pipeline that makes it possible to find interesting and meaningful structural features by exploiting the package $\\href{https://giotto.ai/}{giotto learn}$."
   ]
  },
  {
   "cell_type": "code",
   "execution_count": 9,
   "metadata": {},
   "outputs": [],
   "source": [
    "#Import statements\n",
    "import warnings; warnings.simplefilter('ignore')\n",
    "import random \n",
    "\n",
    "\n",
    "import numpy as np\n",
    "import networkx as nx\n",
    "import pandas as pd\n",
    "import matplotlib.pyplot as plt\n",
    "\n",
    "from sklearn.cluster import KMeans\n",
    "\n",
    "from giotto.graphs.create_clique_complex import CreateCliqueComplex, CreateBoundaryMatrices, CreateLaplacianMatrices    \n",
    "from giotto.graphs.heat_diffusion import HeatDiffusion\n",
    "from giotto.graphs.graph_entropy import GraphEntropy\n",
    "\n",
    "from molecules import mol_to_nx, compute_node_edge_entropy, bonds_type, graph_to_points, bonds_type_to_edge\n",
    "from plotting import plot_entropies, plot_network_diffusion\n",
    "\n",
    "from rdkit import Chem \n",
    "from rdkit.Chem import Draw\n"
   ]
  },
  {
   "cell_type": "markdown",
   "metadata": {},
   "source": [
    "## Import and Convert data to networkx Graph ##"
   ]
  },
  {
   "cell_type": "markdown",
   "metadata": {},
   "source": [
    "Import molecules dataset and convert them: $\\textit{smiles}$ --> $\\textit{rdkit.Chem.rdchem.Mol}$ --> $\\textit{networkx.graph}$."
   ]
  },
  {
   "cell_type": "code",
   "execution_count": 10,
   "metadata": {},
   "outputs": [],
   "source": [
    "#Import and convert data\n",
    "df = pd.read_csv('hiv.csv')\n",
    "df['g_mol'] = df['smiles'].apply(lambda x: Chem.MolFromSmiles(x))\n",
    "df.drop(\"smiles\", axis=1, inplace=True)\n",
    "g_mol = [mol_to_nx(df['g_mol'][i]) for i in range(df.shape[0]) if i != 559 and i!= 8097 ]"
   ]
  },
  {
   "cell_type": "markdown",
   "metadata": {},
   "source": [
    "## Plot one molecule ##\n",
    "\n",
    "We plot here one example of a molecule: in the first plot it is represented as a $\\textit{Mol}$ object of the $\\textit{rdkit}$ module; in the second one the molecule is plotted as a graph by using the $\\textit{networkx}$ package. "
   ]
  },
  {
   "cell_type": "code",
   "execution_count": 11,
   "metadata": {},
   "outputs": [
    {
     "data": {
      "image/png": "[encoded data removed]",
      "text/plain": [
       "<PIL.PngImagePlugin.PngImageFile image mode=RGB size=1000x200 at 0x7FAC14343438>"
      ]
     },
     "execution_count": 11,
     "metadata": {},
     "output_type": "execute_result"
    },
    {
     "data": {
      "image/png": "[encoded data removed]",
      "text/plain": [
       "<Figure size 432x216 with 1 Axes>"
      ]
     },
     "metadata": {},
     "output_type": "display_data"
    }
   ],
   "source": [
    "#Choose one random molecule\n",
    "g = g_mol[0]\n",
    "mol = [df['g_mol'][0]]\n",
    "plt.figure(figsize=(6,3))\n",
    "nx.draw(g, pos=nx.spring_layout(g, iterations=1000))\n",
    "Draw.MolsToGridImage(mol, molsPerRow=5, useSVG=False)\n"
   ]
  },
  {
   "cell_type": "markdown",
   "metadata": {},
   "source": [
    "## Create Embeddings for all atoms and bonds in the dataset ##\n",
    "\n",
    "Here the embeddings for all atoms and bonds presented in the dataset are computed. In particular it is possible to choose different hyperparameters: the number of points in time at which the heat diffusions have to be sampled and the last point instant. In this example the different samples are linearly spaced in time but of course it is possible to choose them differently. "
   ]
  },
  {
   "cell_type": "code",
   "execution_count": 12,
   "metadata": {},
   "outputs": [],
   "source": [
    "# Hyperparameters\n",
    "taus_n = np.linspace(0,2,20)\n",
    "taus_e = np.linspace(0,2,20)"
   ]
  },
  {
   "cell_type": "markdown",
   "metadata": {},
   "source": [
    "In this cell the actual embeddings are computed. It is possible to save time and load them directly from $\\textit{openML}$ in the subsequent cell. "
   ]
  },
  {
   "cell_type": "code",
   "execution_count": null,
   "metadata": {},
   "outputs": [],
   "source": [
    "# Embedding\n",
    "embeds = [compute_node_edge_entropy(x,i, taus_n, taus_e) for i,x in enumerate(g_mol) ]"
   ]
  },
  {
   "cell_type": "markdown",
   "metadata": {},
   "source": [
    "## Load and Save Embeddings ##\n",
    "\n",
    "Here $\\textit{embeds}$ can be loaded. Moreover, if new embeddings have been found, they can be saved as $\\textit{pickle}$ object."
   ]
  },
  {
   "cell_type": "code",
   "execution_count": 13,
   "metadata": {},
   "outputs": [],
   "source": [
    "import pickle"
   ]
  },
  {
   "cell_type": "code",
   "execution_count": 14,
   "metadata": {},
   "outputs": [
    {
     "name": "stdout",
     "output_type": "stream",
     "text": [
      "Dataset loaded...\n"
     ]
    }
   ],
   "source": [
    "#Load it and look at the dimensions \n",
    "embeds = pickle.load(open(\"hiv_embeds.pickle\", 'rb'))\n",
    "print(\"Dataset loaded...\")"
   ]
  },
  {
   "cell_type": "code",
   "execution_count": 15,
   "metadata": {},
   "outputs": [
    {
     "data": {
      "text/plain": [
       "(30, 19)"
      ]
     },
     "execution_count": 15,
     "metadata": {},
     "output_type": "execute_result"
    }
   ],
   "source": [
    "embeds[0][0].shape"
   ]
  },
  {
   "cell_type": "code",
   "execution_count": 16,
   "metadata": {},
   "outputs": [],
   "source": [
    "#Save all the Embeddings \n",
    "import pickle \n",
    "pickle.dump(embeds, open(\"new_hiv_embeddings.pickle\", \"wb\"))"
   ]
  },
  {
   "cell_type": "markdown",
   "metadata": {},
   "source": [
    "# Adding Bonds information #\n",
    "\n",
    "We now add to chemical information to the problem. The first two methods attach to each molecule graph the information about the type of chemical bonds. In particular, each edge is equipped with a one-hot-encoded vector representation with the number 1 in the position of the corresponding bond type: \n",
    "\n",
    "$0 --> single$\n",
    "\n",
    "$1 --> double$\n",
    "\n",
    "$2 --> triple$\n",
    "\n",
    "$3 --> aromatic$\n",
    "\n",
    "Each node is then equipped by summing up all the one-hot-encoded vectors representing its incidence edges."
   ]
  },
  {
   "cell_type": "code",
   "execution_count": 17,
   "metadata": {},
   "outputs": [
    {
     "name": "stdout",
     "output_type": "stream",
     "text": [
      "Total number of atoms in the dataset: 1069964\n",
      "Total number of bonds in the dataset: 1151940\n"
     ]
    }
   ],
   "source": [
    "bonds_type(g_mol)\n",
    "bonds_type_to_edge(g_mol)\n",
    "\n",
    "#Create a list with all nodes \n",
    "freq_type_bonds = list()\n",
    "for g in g_mol:\n",
    "    freq_type_bonds.extend(list(nx.get_node_attributes(g, 'bonds_one_hot').values()))\n",
    "\n",
    "# Create a list with all edges\n",
    "freq_type_bonds_edge = list()\n",
    "for g in g_mol:\n",
    "    freq_type_bonds_edge.extend(list(nx.get_edge_attributes(g, 'bonds_one_hot').values()))\n",
    "\n",
    "# Check how many atoms and bonds \n",
    "freq_type_bonds = np.array(freq_type_bonds)\n",
    "freq_type_bonds_edge = np.array(freq_type_bonds_edge)\n",
    "print(\"Total number of atoms in the dataset: {}\".format(freq_type_bonds.shape[0]))\n",
    "print(\"Total number of bonds in the dataset: {}\".format(freq_type_bonds_edge.shape[0]))"
   ]
  },
  {
   "cell_type": "markdown",
   "metadata": {},
   "source": [
    "# Universal Node Embeddding #"
   ]
  },
  {
   "cell_type": "markdown",
   "metadata": {},
   "source": [
    "We split the molecule embeddings list and create one big list with one extended entry per node contaning both the topological feratures taken from the entropy embeddings and the chemical features realted to the bond types."
   ]
  },
  {
   "cell_type": "code",
   "execution_count": 18,
   "metadata": {},
   "outputs": [],
   "source": [
    "universal_nodes = list()\n",
    "for i in range(len(embeds)):\n",
    "    universal_nodes.extend(np.split(embeds[i][0][1:,:].T, embeds[i][0][0,:].shape[0]))\n",
    "universal_nodes = np.squeeze(np.array(universal_nodes))\n",
    "\n",
    "uni_frq_nodes = [np.hstack([universal_nodes[x,:], freq_type_bonds[x,:]]) for x in range(universal_nodes.shape[0])]\n",
    "uni_frq_nodes = np.array(uni_frq_nodes)"
   ]
  },
  {
   "cell_type": "markdown",
   "metadata": {},
   "source": [
    "Double check that can be useful later to embed entire molecules"
   ]
  },
  {
   "cell_type": "code",
   "execution_count": 19,
   "metadata": {},
   "outputs": [],
   "source": [
    "mol_to_atom = graph_to_points(g_mol, 0)"
   ]
  },
  {
   "cell_type": "markdown",
   "metadata": {},
   "source": [
    "We now cluster all molecules into $\\textit{n_clusters}$ different classes which is another hyperparamter of the pipeline. Moreover, centroids for all classes are stored. They'll be used later to generate the final embedding."
   ]
  },
  {
   "cell_type": "code",
   "execution_count": 20,
   "metadata": {},
   "outputs": [],
   "source": [
    "# Kmeans clustering\n",
    "n_clusters=10\n",
    "kmeans_n = KMeans(n_clusters)\n",
    "universal_class_nodes = kmeans_n.fit_transform(uni_frq_nodes)\n",
    " \n",
    "centroids_n = kmeans_n.cluster_centers_"
   ]
  },
  {
   "cell_type": "markdown",
   "metadata": {},
   "source": [
    "We now popoulate, for each atom, a vector which contains the probability for that atom of belonging to the different $\\textit{n_clusters}$ classes. Once this is obtained, we generate the embedding for a molecule by taking the element-wise sum of the embeddings coming from all its atoms."
   ]
  },
  {
   "cell_type": "code",
   "execution_count": null,
   "metadata": {},
   "outputs": [],
   "source": [
    "#Soft Encoded\n",
    "soft_encoded_node = [[ np.exp( - (np.linalg.norm(uni_frq_nodes[x]- centroids_n[c], 2) ** 2) / 2) for c in range(n_clusters)] for x in range(uni_frq_nodes.shape[0])]\n",
    "soft_encoded_node = np.array(soft_encoded_node)\n",
    "\n",
    "#Create data for each graph\n",
    "x_data_node = [ np.sum([soft_encoded_node[n] for n in mol_to_atom[i]], axis=0) for i in range(len(g_mol))]\n",
    "x_data_node = np.array(x_data_node)\n",
    "print(\"Check shape of x_data_node: {}\".format(x_data_node.shape))"
   ]
  },
  {
   "cell_type": "markdown",
   "metadata": {},
   "source": [
    "# Universal Edge Emebdding #"
   ]
  },
  {
   "cell_type": "markdown",
   "metadata": {},
   "source": [
    "Exatcly the same procedure is applied to the edges of the dataset."
   ]
  },
  {
   "cell_type": "code",
   "execution_count": 21,
   "metadata": {},
   "outputs": [],
   "source": [
    "universal_edges = list()\n",
    "for i in range(len(embeds)):\n",
    "    universal_edges.extend(np.split(embeds[i][1][1:,:].T, embeds[i][1][0,:].shape[0]))\n",
    "universal_edges = np.squeeze(np.array(universal_edges))\n",
    "\n",
    "uni_frq_edges = [np.hstack([universal_edges[x,:], freq_type_bonds_edge[x,:]]) for x in range(universal_edges.shape[0])]\n",
    "uni_frq_edges = np.array(uni_frq_edges)\n",
    "\n",
    "mol_to_bonds = graph_to_points(g_mol, 1)"
   ]
  },
  {
   "cell_type": "code",
   "execution_count": 22,
   "metadata": {},
   "outputs": [],
   "source": [
    "# Kmeans clustering\n",
    "e_clusters = 10\n",
    "kmeans_e = KMeans(e_clusters)\n",
    "universal_class_edge = kmeans_e.fit_transform(uni_frq_edges)\n",
    "\n",
    "centroids_e = kmeans_e.cluster_centers_"
   ]
  },
  {
   "cell_type": "code",
   "execution_count": 25,
   "metadata": {},
   "outputs": [],
   "source": [
    "#Soft Encoded\n",
    "soft_encoded_edge = [[ np.exp( - (np.linalg.norm(uni_frq_edges[x]- centroids_e[c], 2) ** 2) / 2) for c in range(e_clusters)] for x in range(universal_edges.shape[0])]\n",
    "soft_encoded_edge = np.array(soft_encoded_edge)\n",
    "\n",
    "x_data_edge = [ np.sum([soft_encoded_edge[n] for n in mol_to_bonds[i]], axis=0)  for i in range(len(g_mol))]\n",
    "x_data_edge = np.array(x_data_edge)\n",
    "print(\"Check shape of x_data_edge: {}\".format(x_data_edge.shape))"
   ]
  },
  {
   "cell_type": "markdown",
   "metadata": {},
   "source": [
    "# Classification Model #"
   ]
  },
  {
   "cell_type": "markdown",
   "metadata": {},
   "source": [
    "This part of the notebook contains the classificator model and training."
   ]
  },
  {
   "cell_type": "code",
   "execution_count": 28,
   "metadata": {},
   "outputs": [
    {
     "data": {
      "text/plain": [
       "(41911,)"
      ]
     },
     "execution_count": 28,
     "metadata": {},
     "output_type": "execute_result"
    }
   ],
   "source": [
    "# Prepare x_data\n",
    "x_data = np.hstack([x_data_node, x_data_edge])\n",
    "x_data -= np.mean(x_data, axis=0)\n",
    "x_data /= (np.max(x_data, axis=0) - np.min(x_data, axis=0))\n",
    "\n",
    "#Prepare y_data\n",
    "y_data = [df['HIV_active'][i] for i in range(df.shape[0]) if i != 8079 and i != 559]\n",
    "y_data = np.array(y_data)\n",
    "y_data.shape"
   ]
  },
  {
   "cell_type": "code",
   "execution_count": 35,
   "metadata": {},
   "outputs": [],
   "source": [
    "import random\n",
    "\n",
    "f = np.arange(41911)\n",
    "random.Random(10).shuffle(f)\n",
    "train = f[:36000]"
   ]
  },
  {
   "cell_type": "code",
   "execution_count": 42,
   "metadata": {},
   "outputs": [],
   "source": [
    "np.random.shuffle(train)\n",
    "\n",
    "i_train = train[:30000]\n",
    "i_val = train[30000:36000]\n",
    "i_test = f[36000:]\n",
    "\n",
    "x_train = x_data[i_train, :]\n",
    "x_val = x_data[i_val, :] \n",
    "\n",
    "y_train = y_data[i_train]\n",
    "y_val = y_data[i_val]\n",
    "\n",
    "x_test = np.array([np.array(x_data[i,:]) for i in f[36000:]])\n",
    "y_test = np.array([y_data[i] for i in f[36000:]])"
   ]
  },
  {
   "cell_type": "code",
   "execution_count": 43,
   "metadata": {},
   "outputs": [],
   "source": [
    "from keras.models import Sequential\n",
    "from keras.layers import Dense, Dropout, BatchNormalization\n",
    "from keras import optimizers\n",
    "\n",
    "from sklearn.metrics import roc_auc_score"
   ]
  },
  {
   "cell_type": "code",
   "execution_count": 44,
   "metadata": {},
   "outputs": [],
   "source": [
    "## # define the keras model\n",
    "model = Sequential()\n",
    "\n",
    "model.add(Dense(32, activation='relu'))\n",
    "model.add(Dropout(rate=0.4))\n",
    "model.add(BatchNormalization())\n",
    "\n",
    "model.add(Dense(64, activation='relu'))\n",
    "model.add(Dropout(rate=0.4))\n",
    "model.add(BatchNormalization())\n",
    "\n",
    "model.add(Dense(1, activation='sigmoid'))"
   ]
  },
  {
   "cell_type": "code",
   "execution_count": 45,
   "metadata": {},
   "outputs": [],
   "source": [
    "adam = optimizers.Adam(lr=0.001)\n",
    "model.compile(loss='binary_crossentropy', optimizer=adam, metrics=['accuracy'])"
   ]
  },
  {
   "cell_type": "code",
   "execution_count": 46,
   "metadata": {},
   "outputs": [
    {
     "name": "stdout",
     "output_type": "stream",
     "text": [
      "Train on 36000 samples, validate on 6000 samples\n",
      "Epoch 1/100\n",
      "36000/36000 [==============================] - 1s 27us/step - loss: 0.3932 - accuracy: 0.8599 - val_loss: 0.1551 - val_accuracy: 0.9653\n",
      "Epoch 2/100\n",
      "36000/36000 [==============================] - 1s 15us/step - loss: 0.1710 - accuracy: 0.9604 - val_loss: 0.1413 - val_accuracy: 0.9655\n",
      "Epoch 3/100\n",
      "36000/36000 [==============================] - 1s 15us/step - loss: 0.1611 - accuracy: 0.9624 - val_loss: 0.1381 - val_accuracy: 0.9665\n",
      "Epoch 4/100\n",
      "36000/36000 [==============================] - 1s 15us/step - loss: 0.1536 - accuracy: 0.9638 - val_loss: 0.1346 - val_accuracy: 0.9672\n",
      "Epoch 5/100\n",
      "36000/36000 [==============================] - 1s 15us/step - loss: 0.1504 - accuracy: 0.9642 - val_loss: 0.1339 - val_accuracy: 0.9670\n",
      "Epoch 6/100\n",
      "36000/36000 [==============================] - 1s 15us/step - loss: 0.1472 - accuracy: 0.9647 - val_loss: 0.1326 - val_accuracy: 0.9675\n",
      "Epoch 7/100\n",
      "36000/36000 [==============================] - 1s 16us/step - loss: 0.1455 - accuracy: 0.9650 - val_loss: 0.1327 - val_accuracy: 0.9677\n",
      "Epoch 8/100\n",
      "36000/36000 [==============================] - 1s 16us/step - loss: 0.1435 - accuracy: 0.9645 - val_loss: 0.1321 - val_accuracy: 0.9675\n",
      "Epoch 9/100\n",
      "36000/36000 [==============================] - 1s 16us/step - loss: 0.1427 - accuracy: 0.9650 - val_loss: 0.1312 - val_accuracy: 0.9677\n",
      "Epoch 10/100\n",
      "36000/36000 [==============================] - 1s 16us/step - loss: 0.1403 - accuracy: 0.9660 - val_loss: 0.1309 - val_accuracy: 0.9673\n",
      "Epoch 11/100\n",
      "36000/36000 [==============================] - 1s 16us/step - loss: 0.1407 - accuracy: 0.9654 - val_loss: 0.1314 - val_accuracy: 0.9677\n",
      "Epoch 12/100\n",
      "36000/36000 [==============================] - 1s 16us/step - loss: 0.1386 - accuracy: 0.9658 - val_loss: 0.1305 - val_accuracy: 0.9678\n",
      "Epoch 13/100\n",
      "36000/36000 [==============================] - 1s 16us/step - loss: 0.1384 - accuracy: 0.9657 - val_loss: 0.1298 - val_accuracy: 0.9673\n",
      "Epoch 14/100\n",
      "36000/36000 [==============================] - 1s 16us/step - loss: 0.1386 - accuracy: 0.9659 - val_loss: 0.1298 - val_accuracy: 0.9677\n",
      "Epoch 15/100\n",
      "36000/36000 [==============================] - 1s 16us/step - loss: 0.1373 - accuracy: 0.9655 - val_loss: 0.1286 - val_accuracy: 0.9675\n",
      "Epoch 16/100\n",
      "36000/36000 [==============================] - 1s 16us/step - loss: 0.1370 - accuracy: 0.9656 - val_loss: 0.1286 - val_accuracy: 0.9675\n",
      "Epoch 17/100\n",
      "36000/36000 [==============================] - 1s 16us/step - loss: 0.1362 - accuracy: 0.9658 - val_loss: 0.1285 - val_accuracy: 0.9673\n",
      "Epoch 18/100\n",
      "36000/36000 [==============================] - 1s 16us/step - loss: 0.1365 - accuracy: 0.9658 - val_loss: 0.1292 - val_accuracy: 0.9675\n",
      "Epoch 19/100\n",
      "36000/36000 [==============================] - 1s 16us/step - loss: 0.1356 - accuracy: 0.9660 - val_loss: 0.1285 - val_accuracy: 0.9677\n",
      "Epoch 20/100\n",
      "36000/36000 [==============================] - 1s 16us/step - loss: 0.1361 - accuracy: 0.9657 - val_loss: 0.1273 - val_accuracy: 0.9678\n",
      "Epoch 21/100\n",
      "36000/36000 [==============================] - 1s 16us/step - loss: 0.1354 - accuracy: 0.9657 - val_loss: 0.1274 - val_accuracy: 0.9683\n",
      "Epoch 22/100\n",
      "36000/36000 [==============================] - 1s 16us/step - loss: 0.1359 - accuracy: 0.9660 - val_loss: 0.1272 - val_accuracy: 0.9682\n",
      "Epoch 23/100\n",
      "36000/36000 [==============================] - 1s 16us/step - loss: 0.1352 - accuracy: 0.9659 - val_loss: 0.1287 - val_accuracy: 0.9678\n",
      "Epoch 24/100\n",
      "36000/36000 [==============================] - 1s 16us/step - loss: 0.1348 - accuracy: 0.9659 - val_loss: 0.1274 - val_accuracy: 0.9678\n",
      "Epoch 25/100\n",
      "36000/36000 [==============================] - 1s 16us/step - loss: 0.1339 - accuracy: 0.9661 - val_loss: 0.1267 - val_accuracy: 0.9677\n",
      "Epoch 26/100\n",
      "36000/36000 [==============================] - 1s 16us/step - loss: 0.1338 - accuracy: 0.9660 - val_loss: 0.1270 - val_accuracy: 0.9677\n",
      "Epoch 27/100\n",
      "36000/36000 [==============================] - 1s 16us/step - loss: 0.1345 - accuracy: 0.9660 - val_loss: 0.1271 - val_accuracy: 0.9680\n",
      "Epoch 28/100\n",
      "36000/36000 [==============================] - 1s 16us/step - loss: 0.1337 - accuracy: 0.9664 - val_loss: 0.1271 - val_accuracy: 0.9678\n",
      "Epoch 29/100\n",
      "36000/36000 [==============================] - 1s 16us/step - loss: 0.1341 - accuracy: 0.9662 - val_loss: 0.1259 - val_accuracy: 0.9682\n",
      "Epoch 30/100\n",
      "36000/36000 [==============================] - 1s 16us/step - loss: 0.1349 - accuracy: 0.9663 - val_loss: 0.1279 - val_accuracy: 0.9675\n",
      "Epoch 31/100\n",
      "36000/36000 [==============================] - 1s 20us/step - loss: 0.1331 - accuracy: 0.9664 - val_loss: 0.1258 - val_accuracy: 0.9682\n",
      "Epoch 32/100\n",
      "36000/36000 [==============================] - 1s 17us/step - loss: 0.1336 - accuracy: 0.9661 - val_loss: 0.1263 - val_accuracy: 0.9683\n",
      "Epoch 33/100\n",
      "36000/36000 [==============================] - 1s 16us/step - loss: 0.1322 - accuracy: 0.9663 - val_loss: 0.1246 - val_accuracy: 0.9685\n",
      "Epoch 34/100\n",
      "36000/36000 [==============================] - 1s 16us/step - loss: 0.1328 - accuracy: 0.9663 - val_loss: 0.1244 - val_accuracy: 0.9682\n",
      "Epoch 35/100\n",
      "36000/36000 [==============================] - 1s 16us/step - loss: 0.1323 - accuracy: 0.9666 - val_loss: 0.1256 - val_accuracy: 0.9680\n",
      "Epoch 36/100\n",
      "36000/36000 [==============================] - 1s 16us/step - loss: 0.1324 - accuracy: 0.9668 - val_loss: 0.1242 - val_accuracy: 0.9680\n",
      "Epoch 37/100\n",
      "36000/36000 [==============================] - 1s 16us/step - loss: 0.1314 - accuracy: 0.9669 - val_loss: 0.1235 - val_accuracy: 0.9683\n",
      "Epoch 38/100\n",
      "36000/36000 [==============================] - 1s 16us/step - loss: 0.1323 - accuracy: 0.9662 - val_loss: 0.1239 - val_accuracy: 0.9685\n",
      "Epoch 39/100\n",
      "36000/36000 [==============================] - 1s 16us/step - loss: 0.1325 - accuracy: 0.9658 - val_loss: 0.1241 - val_accuracy: 0.9685\n",
      "Epoch 40/100\n",
      "36000/36000 [==============================] - 1s 16us/step - loss: 0.1310 - accuracy: 0.9665 - val_loss: 0.1238 - val_accuracy: 0.9685\n",
      "Epoch 41/100\n",
      "36000/36000 [==============================] - 1s 16us/step - loss: 0.1313 - accuracy: 0.9670 - val_loss: 0.1238 - val_accuracy: 0.9685\n",
      "Epoch 42/100\n",
      "36000/36000 [==============================] - 1s 16us/step - loss: 0.1315 - accuracy: 0.9666 - val_loss: 0.1235 - val_accuracy: 0.9687\n",
      "Epoch 43/100\n",
      "36000/36000 [==============================] - 1s 16us/step - loss: 0.1312 - accuracy: 0.9668 - val_loss: 0.1230 - val_accuracy: 0.9688\n",
      "Epoch 44/100\n",
      "36000/36000 [==============================] - 1s 16us/step - loss: 0.1306 - accuracy: 0.9670 - val_loss: 0.1228 - val_accuracy: 0.9687\n",
      "Epoch 45/100\n",
      "36000/36000 [==============================] - 1s 16us/step - loss: 0.1307 - accuracy: 0.9661 - val_loss: 0.1224 - val_accuracy: 0.9687\n",
      "Epoch 46/100\n",
      "36000/36000 [==============================] - 1s 16us/step - loss: 0.1301 - accuracy: 0.9671 - val_loss: 0.1243 - val_accuracy: 0.9683\n",
      "Epoch 47/100\n",
      "36000/36000 [==============================] - 1s 16us/step - loss: 0.1310 - accuracy: 0.9665 - val_loss: 0.1232 - val_accuracy: 0.9685\n",
      "Epoch 48/100\n",
      "36000/36000 [==============================] - 1s 16us/step - loss: 0.1307 - accuracy: 0.9665 - val_loss: 0.1216 - val_accuracy: 0.9690\n",
      "Epoch 49/100\n",
      "36000/36000 [==============================] - 1s 16us/step - loss: 0.1308 - accuracy: 0.9668 - val_loss: 0.1207 - val_accuracy: 0.9693\n",
      "Epoch 50/100\n",
      "36000/36000 [==============================] - 1s 17us/step - loss: 0.1306 - accuracy: 0.9668 - val_loss: 0.1228 - val_accuracy: 0.9682\n",
      "Epoch 51/100\n",
      "36000/36000 [==============================] - 1s 16us/step - loss: 0.1305 - accuracy: 0.9668 - val_loss: 0.1230 - val_accuracy: 0.9683\n",
      "Epoch 52/100\n",
      "36000/36000 [==============================] - 1s 17us/step - loss: 0.1288 - accuracy: 0.9674 - val_loss: 0.1222 - val_accuracy: 0.9688\n",
      "Epoch 53/100\n",
      "36000/36000 [==============================] - 1s 17us/step - loss: 0.1308 - accuracy: 0.9668 - val_loss: 0.1237 - val_accuracy: 0.9675\n",
      "Epoch 54/100\n",
      "36000/36000 [==============================] - 1s 16us/step - loss: 0.1310 - accuracy: 0.9666 - val_loss: 0.1238 - val_accuracy: 0.9680\n",
      "Epoch 55/100\n",
      "36000/36000 [==============================] - 1s 16us/step - loss: 0.1305 - accuracy: 0.9668 - val_loss: 0.1214 - val_accuracy: 0.9693\n"
     ]
    },
    {
     "name": "stdout",
     "output_type": "stream",
     "text": [
      "Epoch 56/100\n",
      "36000/36000 [==============================] - 1s 15us/step - loss: 0.1293 - accuracy: 0.9674 - val_loss: 0.1223 - val_accuracy: 0.9687\n",
      "Epoch 57/100\n",
      "36000/36000 [==============================] - 1s 15us/step - loss: 0.1297 - accuracy: 0.9671 - val_loss: 0.1218 - val_accuracy: 0.9690\n",
      "Epoch 58/100\n",
      "36000/36000 [==============================] - 1s 15us/step - loss: 0.1299 - accuracy: 0.9666 - val_loss: 0.1222 - val_accuracy: 0.9688\n",
      "Epoch 59/100\n",
      "36000/36000 [==============================] - 1s 15us/step - loss: 0.1295 - accuracy: 0.9673 - val_loss: 0.1209 - val_accuracy: 0.9702\n",
      "Epoch 60/100\n",
      "36000/36000 [==============================] - 1s 15us/step - loss: 0.1301 - accuracy: 0.9671 - val_loss: 0.1215 - val_accuracy: 0.9697\n",
      "Epoch 61/100\n",
      "36000/36000 [==============================] - 1s 15us/step - loss: 0.1290 - accuracy: 0.9671 - val_loss: 0.1233 - val_accuracy: 0.9688\n",
      "Epoch 62/100\n",
      "36000/36000 [==============================] - 1s 15us/step - loss: 0.1302 - accuracy: 0.9666 - val_loss: 0.1205 - val_accuracy: 0.9702\n",
      "Epoch 63/100\n",
      "36000/36000 [==============================] - 1s 15us/step - loss: 0.1295 - accuracy: 0.9666 - val_loss: 0.1209 - val_accuracy: 0.9688\n",
      "Epoch 64/100\n",
      "36000/36000 [==============================] - 1s 15us/step - loss: 0.1299 - accuracy: 0.9674 - val_loss: 0.1209 - val_accuracy: 0.9698\n",
      "Epoch 65/100\n",
      "36000/36000 [==============================] - 1s 15us/step - loss: 0.1293 - accuracy: 0.9671 - val_loss: 0.1224 - val_accuracy: 0.9683\n",
      "Epoch 66/100\n",
      "36000/36000 [==============================] - 1s 15us/step - loss: 0.1288 - accuracy: 0.9672 - val_loss: 0.1209 - val_accuracy: 0.9690\n",
      "Epoch 67/100\n",
      "36000/36000 [==============================] - 1s 15us/step - loss: 0.1287 - accuracy: 0.9669 - val_loss: 0.1211 - val_accuracy: 0.9693\n",
      "Epoch 68/100\n",
      "36000/36000 [==============================] - 1s 15us/step - loss: 0.1287 - accuracy: 0.9671 - val_loss: 0.1194 - val_accuracy: 0.9697\n",
      "Epoch 69/100\n",
      "36000/36000 [==============================] - 1s 15us/step - loss: 0.1297 - accuracy: 0.9668 - val_loss: 0.1218 - val_accuracy: 0.9690\n",
      "Epoch 70/100\n",
      "36000/36000 [==============================] - 1s 15us/step - loss: 0.1289 - accuracy: 0.9667 - val_loss: 0.1199 - val_accuracy: 0.9698\n",
      "Epoch 71/100\n",
      "36000/36000 [==============================] - 1s 15us/step - loss: 0.1287 - accuracy: 0.9674 - val_loss: 0.1204 - val_accuracy: 0.9695\n",
      "Epoch 72/100\n",
      "36000/36000 [==============================] - 1s 15us/step - loss: 0.1282 - accuracy: 0.9674 - val_loss: 0.1200 - val_accuracy: 0.9690\n",
      "Epoch 73/100\n",
      "36000/36000 [==============================] - 1s 15us/step - loss: 0.1298 - accuracy: 0.9669 - val_loss: 0.1219 - val_accuracy: 0.9693\n",
      "Epoch 74/100\n",
      "36000/36000 [==============================] - 1s 16us/step - loss: 0.1277 - accuracy: 0.9673 - val_loss: 0.1190 - val_accuracy: 0.9702\n",
      "Epoch 75/100\n",
      "36000/36000 [==============================] - 1s 17us/step - loss: 0.1284 - accuracy: 0.9673 - val_loss: 0.1211 - val_accuracy: 0.9693\n",
      "Epoch 76/100\n",
      "36000/36000 [==============================] - 1s 17us/step - loss: 0.1291 - accuracy: 0.9668 - val_loss: 0.1214 - val_accuracy: 0.9692\n",
      "Epoch 77/100\n",
      "36000/36000 [==============================] - 1s 17us/step - loss: 0.1279 - accuracy: 0.9675 - val_loss: 0.1209 - val_accuracy: 0.9693\n",
      "Epoch 78/100\n",
      "36000/36000 [==============================] - 1s 16us/step - loss: 0.1289 - accuracy: 0.9675 - val_loss: 0.1217 - val_accuracy: 0.9690\n",
      "Epoch 79/100\n",
      "36000/36000 [==============================] - 1s 17us/step - loss: 0.1289 - accuracy: 0.9663 - val_loss: 0.1206 - val_accuracy: 0.9692\n",
      "Epoch 80/100\n",
      "36000/36000 [==============================] - 1s 16us/step - loss: 0.1288 - accuracy: 0.9670 - val_loss: 0.1200 - val_accuracy: 0.9695\n",
      "Epoch 81/100\n",
      "36000/36000 [==============================] - 1s 16us/step - loss: 0.1280 - accuracy: 0.9677 - val_loss: 0.1193 - val_accuracy: 0.9702\n",
      "Epoch 82/100\n",
      "36000/36000 [==============================] - 1s 16us/step - loss: 0.1288 - accuracy: 0.9669 - val_loss: 0.1209 - val_accuracy: 0.9688\n",
      "Epoch 83/100\n",
      "36000/36000 [==============================] - 1s 16us/step - loss: 0.1290 - accuracy: 0.9672 - val_loss: 0.1203 - val_accuracy: 0.9698\n",
      "Epoch 84/100\n",
      "36000/36000 [==============================] - 1s 16us/step - loss: 0.1272 - accuracy: 0.9676 - val_loss: 0.1196 - val_accuracy: 0.9700\n",
      "Epoch 85/100\n",
      "36000/36000 [==============================] - 1s 16us/step - loss: 0.1292 - accuracy: 0.9672 - val_loss: 0.1203 - val_accuracy: 0.9695\n",
      "Epoch 86/100\n",
      "36000/36000 [==============================] - 1s 17us/step - loss: 0.1272 - accuracy: 0.9669 - val_loss: 0.1206 - val_accuracy: 0.9692\n",
      "Epoch 87/100\n",
      "36000/36000 [==============================] - 1s 14us/step - loss: 0.1277 - accuracy: 0.9672 - val_loss: 0.1208 - val_accuracy: 0.9692\n",
      "Epoch 88/100\n",
      "36000/36000 [==============================] - 0s 13us/step - loss: 0.1275 - accuracy: 0.9676 - val_loss: 0.1216 - val_accuracy: 0.9693\n",
      "Epoch 89/100\n",
      "36000/36000 [==============================] - 1s 15us/step - loss: 0.1279 - accuracy: 0.9675 - val_loss: 0.1206 - val_accuracy: 0.9692\n",
      "Epoch 90/100\n",
      "36000/36000 [==============================] - 1s 17us/step - loss: 0.1274 - accuracy: 0.9677 - val_loss: 0.1193 - val_accuracy: 0.9702\n",
      "Epoch 91/100\n",
      "36000/36000 [==============================] - 1s 17us/step - loss: 0.1279 - accuracy: 0.9674 - val_loss: 0.1212 - val_accuracy: 0.9690\n",
      "Epoch 92/100\n",
      "36000/36000 [==============================] - 1s 17us/step - loss: 0.1267 - accuracy: 0.9675 - val_loss: 0.1211 - val_accuracy: 0.9690\n",
      "Epoch 93/100\n",
      "36000/36000 [==============================] - 1s 17us/step - loss: 0.1287 - accuracy: 0.9670 - val_loss: 0.1219 - val_accuracy: 0.9685\n",
      "Epoch 94/100\n",
      "36000/36000 [==============================] - 1s 17us/step - loss: 0.1290 - accuracy: 0.9670 - val_loss: 0.1225 - val_accuracy: 0.9682\n",
      "Epoch 95/100\n",
      "36000/36000 [==============================] - 1s 16us/step - loss: 0.1279 - accuracy: 0.9675 - val_loss: 0.1192 - val_accuracy: 0.9695\n",
      "Epoch 96/100\n",
      "36000/36000 [==============================] - 1s 17us/step - loss: 0.1282 - accuracy: 0.9678 - val_loss: 0.1201 - val_accuracy: 0.9690\n",
      "Epoch 97/100\n",
      "36000/36000 [==============================] - 1s 18us/step - loss: 0.1278 - accuracy: 0.9676 - val_loss: 0.1212 - val_accuracy: 0.9692\n",
      "Epoch 98/100\n",
      "36000/36000 [==============================] - 1s 17us/step - loss: 0.1277 - accuracy: 0.9674 - val_loss: 0.1190 - val_accuracy: 0.9705\n",
      "Epoch 99/100\n",
      "36000/36000 [==============================] - 1s 17us/step - loss: 0.1285 - accuracy: 0.9665 - val_loss: 0.1223 - val_accuracy: 0.9687\n",
      "Epoch 100/100\n",
      "36000/36000 [==============================] - 1s 17us/step - loss: 0.1282 - accuracy: 0.9672 - val_loss: 0.1210 - val_accuracy: 0.9687\n"
     ]
    },
    {
     "data": {
      "text/plain": [
       "<keras.callbacks.callbacks.History at 0x7fab236ca9e8>"
      ]
     },
     "execution_count": 46,
     "metadata": {},
     "output_type": "execute_result"
    }
   ],
   "source": [
    "model.fit(x_train, y_train, epochs=100,validation_data=(x_val, y_val), batch_size=128)"
   ]
  },
  {
   "cell_type": "code",
   "execution_count": 47,
   "metadata": {},
   "outputs": [
    {
     "name": "stdout",
     "output_type": "stream",
     "text": [
      "6000/6000 [==============================] - 0s 17us/step\n",
      "Accuracy: 96.87\n",
      " Train AUC-ROC : 0.7896515840048846\n",
      " Valid AUC-ROC : 0.7889180700169995\n",
      " Test AUC-ROC : 0.7496271651201228\n"
     ]
    }
   ],
   "source": [
    "### evaluate the keras model\n",
    "pe, accuracy = model.evaluate(x_val, y_val)\n",
    "print('Accuracy: %.2f' % (accuracy*100))\n",
    "\n",
    "p_train = model.predict(x_train)\n",
    "p_val = model.predict(x_val)\n",
    "p_test = model.predict(x_test)\n",
    "\n",
    "print(\" Train AUC-ROC : {}\".format(roc_auc_score(y_train, p_train)))\n",
    "\n",
    "print(\" Valid AUC-ROC : {}\".format(roc_auc_score(y_val, p_val)))\n",
    "\n",
    "print(\" Test AUC-ROC : {}\".format(roc_auc_score(y_test, p_test)))\n"
   ]
  },
  {
   "cell_type": "code",
   "execution_count": null,
   "metadata": {},
   "outputs": [],
   "source": []
  }
 ],
 "metadata": {
  "kernelspec": {
   "display_name": "Python (py35)",
   "language": "python",
   "name": "py35"
  },
  "language_info": {
   "codemirror_mode": {
    "name": "ipython",
    "version": 3
   },
   "file_extension": ".py",
   "mimetype": "text/x-python",
   "name": "python",
   "nbconvert_exporter": "python",
   "pygments_lexer": "ipython3",
   "version": "3.5.6"
  }
 },
 "nbformat": 4,
 "nbformat_minor": 2
}
