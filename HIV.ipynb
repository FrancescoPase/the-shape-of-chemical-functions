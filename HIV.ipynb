{
 "cells": [
  {
   "cell_type": "markdown",
   "metadata": {},
   "source": [
    "# Notebook to analyze HIV Dataset #"
   ]
  },
  {
   "cell_type": "code",
   "execution_count": null,
   "metadata": {},
   "outputs": [],
   "source": [
    "import warnings\n",
    "warnings.filterwarnings('ignore')"
   ]
  },
  {
   "cell_type": "code",
   "execution_count": null,
   "metadata": {},
   "outputs": [],
   "source": [
    "# some_file.py\n",
    "import sys\n",
    "# insert at 1, 0 is the script path (or '' in REPL)\n",
    "sys.path.insert(1, '/home/runner/MEGA/Repo/giotto-learn/giotto/graphs')"
   ]
  },
  {
   "cell_type": "code",
   "execution_count": null,
   "metadata": {},
   "outputs": [],
   "source": [
    "#Import statements\n",
    "\n",
    "import numpy as np\n",
    "import networkx as nx\n",
    "import scipy as sp\n",
    "\n",
    "import matplotlib.pyplot as plt\n",
    "from sklearn.decomposition import PCA\n",
    "from sklearn.cluster import KMeans\n",
    "import random \n",
    "import pandas as pd\n",
    "\n",
    "from create_clique_complex import CreateCliqueComplex, CreateBoundaryMatrices, CreateLaplacianMatrices\n",
    "from heat_diffusion import HeatDiffusion\n",
    "from graph_entropy import GraphEntropy\n",
    "from matplotlib.pyplot import pause\n",
    "\n",
    "from molecules import mol_to_nx, compute_node_edge_entropy\n",
    "from utils.plotting import plot_network_diffusion\n",
    "\n",
    "from utils.plotting import plot_entropies, plot_network_diffusion\n",
    "\n",
    "import pickle\n",
    "\n",
    "import deepchem as dc\n",
    "from rdkit import Chem \n",
    "from rdkit.Chem import Draw\n",
    "\n",
    "import random\n"
   ]
  },
  {
   "cell_type": "markdown",
   "metadata": {},
   "source": [
    "## Import and Convert data to networkx Graph ##"
   ]
  },
  {
   "cell_type": "code",
   "execution_count": null,
   "metadata": {},
   "outputs": [],
   "source": [
    "#Import as csv for the method\n",
    "\n",
    "df = pd.read_csv('hiv.csv')"
   ]
  },
  {
   "cell_type": "markdown",
   "metadata": {},
   "source": [
    "## Convert data ##"
   ]
  },
  {
   "cell_type": "code",
   "execution_count": null,
   "metadata": {},
   "outputs": [],
   "source": [
    "#Method that transforms smiles strings to mol rdkit object\n",
    "df['mol'] = df['smiles'].apply(lambda x: Chem.MolFromSmiles(x)) \n",
    "\n"
   ]
  },
  {
   "cell_type": "code",
   "execution_count": null,
   "metadata": {},
   "outputs": [],
   "source": [
    "#Plot example of molecule 0\n",
    "mol = df['mol'][0]\n",
    "g = mol_to_nx(mol)\n",
    "pos = nx.spring_layout(g)\n",
    "\n",
    "nx.draw(g, pos)\n",
    "\n",
    "mols = [mol]\n",
    "Draw.MolsToGridImage(mols, molsPerRow=5, useSVG=False)"
   ]
  },
  {
   "cell_type": "code",
   "execution_count": null,
   "metadata": {},
   "outputs": [],
   "source": [
    "#Convert all molecules and put them into a list g_mol\n",
    "g_mol = df['mol'].apply(lambda x: mol_to_nx(x))\n"
   ]
  },
  {
   "cell_type": "code",
   "execution_count": null,
   "metadata": {},
   "outputs": [],
   "source": [
    "#Poor 'class 1' example\n",
    "print('Number of active inhibitors: {}'.format(df[df['HIV_active'] == 1].shape[0]))\n"
   ]
  },
  {
   "cell_type": "code",
   "execution_count": null,
   "metadata": {},
   "outputs": [],
   "source": [
    "#Hyperparameters \n",
    "\n",
    "\n",
    "#Temporal instants to take for node diffusions\n",
    "taus_n = np.linspace(0, 2, 20)\n",
    "\n",
    "\n",
    "#Temporal instants to take for edge diffusions\n",
    "taus_e = np.linspace(0, 2, 20)\n",
    "\n",
    "\n"
   ]
  },
  {
   "cell_type": "code",
   "execution_count": null,
   "metadata": {},
   "outputs": [],
   "source": [
    "g = g_mol[0]"
   ]
  },
  {
   "cell_type": "code",
   "execution_count": null,
   "metadata": {},
   "outputs": [],
   "source": [
    "ci = np.zeros((19, 2))"
   ]
  },
  {
   "cell_type": "code",
   "execution_count": null,
   "metadata": {},
   "outputs": [],
   "source": [
    "ci[0,0] = 1\n",
    "ci[1,1]=1"
   ]
  },
  {
   "cell_type": "code",
   "execution_count": null,
   "metadata": {},
   "outputs": [],
   "source": [
    "ci.shape"
   ]
  },
  {
   "cell_type": "code",
   "execution_count": null,
   "metadata": {},
   "outputs": [],
   "source": [
    "cd = CreateCliqueComplex(graph=g).create_complex_from_graph()\n",
    "lap = CreateLaplacianMatrices().fit().transform(cd, (0,1) )\n",
    "mh_n = GraphEntropy().fit().transform(HeatDiffusion().fit(taus_n).transform(lap[0])).T\n",
    "mh_e = GraphEntropy().fit().transform(HeatDiffusion().fit(taus_e).transform(lap[1])).T"
   ]
  },
  {
   "cell_type": "code",
   "execution_count": null,
   "metadata": {},
   "outputs": [],
   "source": [
    "mh_n.shape"
   ]
  },
  {
   "cell_type": "code",
   "execution_count": null,
   "metadata": {},
   "outputs": [],
   "source": [
    "plot_entropies(mh_e, [0,3,4,5,6, 15])"
   ]
  },
  {
   "cell_type": "code",
   "execution_count": null,
   "metadata": {},
   "outputs": [],
   "source": [
    "#Simple K-mean\n",
    "kmeans = KMeans(n_clusters=4)\n",
    "kmeans.fit(np.transpose(mh_n))\n",
    "y_kmeans_n = kmeans.predict(np.transpose(mh_n))"
   ]
  },
  {
   "cell_type": "code",
   "execution_count": null,
   "metadata": {},
   "outputs": [],
   "source": [
    "#Just for Visualization, plot 2D PCA embedding with points colored by classes\n",
    "\n",
    "\n",
    "pca = PCA(n_components=4)\n",
    "\n",
    "pca_n = pca.fit_transform(np.transpose(mh_n))\n",
    "\n",
    "#Colors for classes (at most 8)\n",
    "col = ['blue', 'red', 'black', 'yellow', 'orange', 'green', 'grey', 'brown']\n",
    "\n",
    "\n",
    "cols = [col[e] for e in y_kmeans_n]\n",
    "plt.scatter(np.ravel(pca_n[:,0]),np.ravel(pca_n[:,1]),  c= cols, s=100)\n",
    "_ = plt.title(\"2D-PCA of Nodes Molecule\")\n",
    "plt.savefig(\"Molecules_Node.png\")"
   ]
  },
  {
   "cell_type": "code",
   "execution_count": null,
   "metadata": {},
   "outputs": [],
   "source": [
    "pos = nx.spring_layout(g, iterations=2000)"
   ]
  },
  {
   "cell_type": "code",
   "execution_count": null,
   "metadata": {},
   "outputs": [],
   "source": [
    "#Plot the graph with nodes colored by classes\n",
    "\n",
    "plot_network_diffusion(g,pos,node_vector=y_kmeans_n, edge_vector=None,node_labels=True,edge_labels=False)\n",
    "\n",
    "\n"
   ]
  },
  {
   "cell_type": "code",
   "execution_count": null,
   "metadata": {},
   "outputs": [],
   "source": [
    "#Simple K-mean\n",
    "kmeans = KMeans(n_clusters=3)\n",
    "kmeans.fit(np.transpose(mh_e))\n",
    "y_kmeans_e = kmeans.predict(np.transpose(mh_e))"
   ]
  },
  {
   "cell_type": "code",
   "execution_count": null,
   "metadata": {},
   "outputs": [],
   "source": [
    "#Just for Visualization\n",
    "pca = PCA(n_components=4)\n",
    "\n",
    "pca_e = pca.fit_transform(np.transpose(mh_e))\n",
    "\n",
    "#Colors for classes (at most 8)\n",
    "col = ['blue', 'red', 'black', 'yellow', 'orange', 'green', 'grey', 'brown']\n",
    "\n",
    "#Associate colors to each edge w.r.t. its class\n",
    "cols = [col[e] for e in y_kmeans_e]\n",
    "plt.scatter(np.ravel(pca_e[:,0]),np.ravel(pca_e[:,1]),  c= cols, s=100)\n",
    "\n",
    "_ = plt.title(\"2D-PCA of Edge Molecule\")\n",
    "plt.savefig(\"Molecules_Edge.png\")\n"
   ]
  },
  {
   "cell_type": "code",
   "execution_count": null,
   "metadata": {},
   "outputs": [],
   "source": [
    "pos = nx.spring_layout(g, iterations=2000)"
   ]
  },
  {
   "cell_type": "code",
   "execution_count": null,
   "metadata": {},
   "outputs": [],
   "source": [
    "#Plot the graph with edges colored by classes\n",
    "\n",
    "plot_network_diffusion(g,pos, edge_vector=y_kmeans_e,node_labels=True,edge_labels=False)\n",
    "\n",
    "\n"
   ]
  },
  {
   "cell_type": "markdown",
   "metadata": {},
   "source": [
    "## Create Embedding for all molecules of the dataset ##"
   ]
  },
  {
   "cell_type": "code",
   "execution_count": null,
   "metadata": {},
   "outputs": [],
   "source": [
    "embeds = [embedd(x,i, taus_n, taus_e) for i,x in enumerate(g_mol) ]\n"
   ]
  },
  {
   "cell_type": "code",
   "execution_count": null,
   "metadata": {},
   "outputs": [],
   "source": [
    "nx.draw(g_mol[559])"
   ]
  },
  {
   "cell_type": "code",
   "execution_count": null,
   "metadata": {},
   "outputs": [],
   "source": [
    "g_mol.pop(8097)\n",
    "g_mol.pop(559)"
   ]
  },
  {
   "cell_type": "code",
   "execution_count": null,
   "metadata": {},
   "outputs": [],
   "source": [
    "for i,e in enumerate(g_mol):\n",
    "    if e.number_of_nodes() == 2:\n",
    "        print(i)"
   ]
  },
  {
   "cell_type": "markdown",
   "metadata": {},
   "source": [
    "## Save ##"
   ]
  },
  {
   "cell_type": "code",
   "execution_count": null,
   "metadata": {},
   "outputs": [],
   "source": [
    "#Save all the Embeddings \n",
    "\n",
    "#pickle.dump(embeds, open(\"hiv_embeddings.pickle\", \"wb\"))"
   ]
  },
  {
   "cell_type": "markdown",
   "metadata": {},
   "source": [
    "## Load ##"
   ]
  },
  {
   "cell_type": "code",
   "execution_count": null,
   "metadata": {},
   "outputs": [],
   "source": []
  },
  {
   "cell_type": "code",
   "execution_count": null,
   "metadata": {},
   "outputs": [],
   "source": [
    "#Load it and look at the dimensions \n",
    "\n",
    "#embeds = pickle.load(open(\"hiv_embeddings.pickle\", 'rb'))\n",
    "print(\"Dataset loaded...\")\n",
    "print('Size of embeddings: {}'.format(embeds[0][0].shape))"
   ]
  },
  {
   "cell_type": "code",
   "execution_count": null,
   "metadata": {},
   "outputs": [],
   "source": [
    "#Study how many different atoms (and which)\n",
    "\n",
    "freq = dict()\n",
    "for g in g_mol:\n",
    "    l = list(nx.get_node_attributes(g, 'atomic_num').values())\n",
    "    for a in l:\n",
    "        if (freq.get(a)):\n",
    "            freq[a] += 1\n",
    "        else:\n",
    "            freq[a]=1\n"
   ]
  },
  {
   "cell_type": "code",
   "execution_count": null,
   "metadata": {},
   "outputs": [],
   "source": [
    "#Plot results\n",
    "plt.scatter(freq.keys(), freq.values())\n",
    "plt.title(\"Frequency of atom types\")\n",
    "plt.xlabel(\"Element Atomic Numbers\")\n",
    "plt.ylabel(\"Frequency in all molecules\")"
   ]
  },
  {
   "cell_type": "markdown",
   "metadata": {},
   "source": [
    "# Adding Bonds information #"
   ]
  },
  {
   "cell_type": "code",
   "execution_count": null,
   "metadata": {},
   "outputs": [],
   "source": [
    "#Check which bonds we have in the dataset\n",
    "\n",
    "s = set()\n",
    "for g in g_mol:\n",
    "    for n in g.nodes():\n",
    "        for i in  g.neighbors(n):\n",
    "           s.add(int(g.get_edge_data(n,i)['bond_type']))\n",
    "print(s)"
   ]
  },
  {
   "cell_type": "code",
   "execution_count": null,
   "metadata": {},
   "outputs": [],
   "source": []
  },
  {
   "cell_type": "code",
   "execution_count": null,
   "metadata": {},
   "outputs": [],
   "source": [
    "#Complex Molecule\n",
    "Draw.MolsToGridImage(df['mol'][3614:3615], molsPerRow=5, useSVG=False)"
   ]
  },
  {
   "cell_type": "code",
   "execution_count": null,
   "metadata": {},
   "outputs": [],
   "source": [
    "#Plot networkx molecule\n",
    "\n",
    "pos = nx.spring_layout(g_mol[3614], iterations=2000)\n",
    "plot_network_diffusion(g_mol[3614],pos, node_labels=True)"
   ]
  },
  {
   "cell_type": "code",
   "execution_count": null,
   "metadata": {},
   "outputs": [],
   "source": [
    "#Addingind the bond types as features\n",
    "\n",
    "for g in g_mol:\n",
    "    #dictionary for nodes\n",
    "    d_n = dict()\n",
    "    \n",
    "    for n in g.nodes():\n",
    "        d_n[n] = np.zeros(4)\n",
    "        \n",
    "        for i in g.neighbors(n):\n",
    "            #encoding type\n",
    "            edge_type = int(g.get_edge_data(n,i)['bond_type'])\n",
    "            if (edge_type == 12):\n",
    "                d_n[n][3] += 1\n",
    "            else:\n",
    "                d_n[n][edge_type-1] += 1\n",
    "    #Adding bonds information to each node of all molecules\n",
    "    nx.set_node_attributes(g, name='bonds_one_hot', values=d_n)\n",
    "        \n"
   ]
  },
  {
   "cell_type": "code",
   "execution_count": null,
   "metadata": {},
   "outputs": [],
   "source": [
    "#Create a list with all nodes \n",
    "freq_type_bonds = list()\n",
    "for g in g_mol:\n",
    "    freq_type_bonds.extend(list(nx.get_node_attributes(g, 'bonds_one_hot').values()))"
   ]
  },
  {
   "cell_type": "code",
   "execution_count": null,
   "metadata": {},
   "outputs": [],
   "source": [
    "freq_type_bonds = np.array(freq_type_bonds)\n",
    "print(\"Total number of atoms in the dataset: {}\".format(freq_type_bonds.shape[0]))\n",
    "print(\"Entry size: {}\".format(freq_type_bonds.shape[1]))"
   ]
  },
  {
   "cell_type": "markdown",
   "metadata": {},
   "source": [
    "# Universal Node Embeddding #"
   ]
  },
  {
   "cell_type": "code",
   "execution_count": null,
   "metadata": {},
   "outputs": [],
   "source": [
    "#Universal embedding for nodes \n",
    "embedding_dim = 40\n",
    "\n",
    "universal_points = list()\n",
    "for e in embeds:\n",
    "    #Iterate over all nodes\n",
    "    for n in range(embeds[e][0].shape[1]):\n",
    "        universal_points.append(np.ravel(embeds[e][0][1:,n]))\n",
    "\n",
    "universal_points = np.array(universal_points)\n",
    "universal_points.shape"
   ]
  },
  {
   "cell_type": "code",
   "execution_count": null,
   "metadata": {},
   "outputs": [],
   "source": [
    "uni_frq = list()\n",
    "for x in range(universal_points.shape[0]):\n",
    "    uni_frq.append(np.hstack([universal_points[x,:], freq_type_bonds[x,:]]))"
   ]
  },
  {
   "cell_type": "code",
   "execution_count": null,
   "metadata": {},
   "outputs": [],
   "source": [
    "uni_frq = np.array(uni_frq)\n",
    "uni_frq.shape"
   ]
  },
  {
   "cell_type": "code",
   "execution_count": null,
   "metadata": {},
   "outputs": [],
   "source": [
    "s = 0\n",
    "for e in embeds:\n",
    "    s+= embeds[e][0].shape[1]"
   ]
  },
  {
   "cell_type": "code",
   "execution_count": null,
   "metadata": {},
   "outputs": [],
   "source": [
    "j=0\n",
    "graph_to_points = dict()\n",
    "for i in range(len(g_mol)):\n",
    "    #if (g_mol[i].number_of_nodes() > 10 and g_mol[i].number_of_nodes() < 100):\n",
    "    graph_to_points[i] = np.arange(j, j + g_mol[i].number_of_nodes())\n",
    "    j += g_mol[i].number_of_nodes()"
   ]
  },
  {
   "cell_type": "code",
   "execution_count": null,
   "metadata": {},
   "outputs": [],
   "source": [
    "#Use only topological information\n",
    "\n",
    "#Simple K-mean\n",
    "\n",
    "kmeans_n = KMeans(n_clusters=10)\n",
    "kmeans_n.fit(uni_frq)\n",
    "universal_class = kmeans_n.predict(uni_frq)"
   ]
  },
  {
   "cell_type": "code",
   "execution_count": null,
   "metadata": {},
   "outputs": [],
   "source": [
    "centroids_n = kmeans_n.cluster_centers_"
   ]
  },
  {
   "cell_type": "code",
   "execution_count": null,
   "metadata": {},
   "outputs": [],
   "source": [
    "\"\"\"from sklearn import metrics\n",
    "\n",
    "metrics.silhouette_score(uni_frq, universal_class, metric='euclidean')\"\"\""
   ]
  },
  {
   "cell_type": "code",
   "execution_count": null,
   "metadata": {},
   "outputs": [],
   "source": [
    "#Just for Visualization, plot 2D PCA embedding with points colored by classes\n",
    "\n",
    "\n",
    "pca = PCA(n_components=2)\n",
    "\n",
    "pca_n = pca.fit_transform(universal_points)\n",
    "\n",
    "#Colors for classes (at most 8)\n",
    "col = ['blue', 'red', 'black', 'yellow', 'orange', 'green', 'grey', 'brown', 'violet', 'yellow']\n",
    "\n",
    "\n",
    "cols = [col[e] for e in universal_class]\n",
    "plt.scatter(np.ravel(pca_n[:,0]),np.ravel(pca_n[:,1]),  c= cols, s=100)\n",
    "_ = plt.title(\"2D-PCA of Node Emebdding\")\n"
   ]
  },
  {
   "cell_type": "markdown",
   "metadata": {},
   "source": [
    "# First Topology approach #"
   ]
  },
  {
   "cell_type": "code",
   "execution_count": null,
   "metadata": {},
   "outputs": [],
   "source": [
    "#Bonds info (one_hot_encoding)\n",
    "bn = dict()\n",
    "#Nodes sums\n",
    "ran = dict()\n",
    "#Edges sum\n",
    "rane = dict()\n",
    "for e in embeds:  \n",
    "    \n",
    "    print(e)\n",
    "    if (g_mol[e].number_of_nodes() < 100 and g_mol[e].number_of_nodes() >10):\n",
    "        ran[e] = list(sum(embeds[e][0]))\n",
    "        ran[e] = list( ran[e] / np.max(ran[e]))\n",
    "        #ran[e] = list( ran[e])\n",
    "\n",
    "        rane[e] = list(sum(embeds[e][1]))\n",
    "        rane[e] = list( rane[e] / np.max(rane[e]))\n",
    "        #rane[e] = list(rane[e])\n",
    "\n",
    "        #for a in nx.get_node_attributes(g_mol[e], 'atomic_num').values():\n",
    "        #        at[e][mapp_atoms[a]] +=1\n",
    "        \n",
    "        \n",
    "    "
   ]
  },
  {
   "cell_type": "markdown",
   "metadata": {},
   "source": [
    "# Universal Edge Emebdding #"
   ]
  },
  {
   "cell_type": "code",
   "execution_count": null,
   "metadata": {},
   "outputs": [],
   "source": [
    "#Universal embedding for nodes \n",
    "embedding_dim = 40\n",
    "\n",
    "universal_edge = list()\n",
    "for e in embeds:\n",
    "    #Iterate over all nodes\n",
    "    for n in range(embeds[e][1].shape[1]):\n",
    "        universal_edge.append(np.ravel(embeds[e][1][1:,n]))\n",
    "\n",
    "universal_edge = np.array(universal_edge)\n",
    "universal_edge.shape"
   ]
  },
  {
   "cell_type": "code",
   "execution_count": null,
   "metadata": {},
   "outputs": [],
   "source": [
    "for g in g_mol:\n",
    "    d_e = dict()\n",
    "    for e in g.edges():\n",
    "        d_e[e] = np.zeros(4)\n",
    "        if (b == 12):\n",
    "            d_e[e][3] = 1\n",
    "        else:\n",
    "            d_e[e][b-1] = 1\n",
    "    nx.set_edge_attributes(g, name='bonds_one_hot', values=d_e)"
   ]
  },
  {
   "cell_type": "code",
   "execution_count": null,
   "metadata": {},
   "outputs": [],
   "source": [
    "freq_type_bonds_edge = list()\n",
    "for g in g_mol:\n",
    "    freq_type_bonds_edge.extend(list(nx.get_edge_attributes(g, 'bonds_one_hot').values()))"
   ]
  },
  {
   "cell_type": "code",
   "execution_count": null,
   "metadata": {},
   "outputs": [],
   "source": [
    "freq_type_bonds_edge = np.array(freq_type_bonds_edge)\n",
    "freq_type_bonds_edge.shape"
   ]
  },
  {
   "cell_type": "code",
   "execution_count": null,
   "metadata": {},
   "outputs": [],
   "source": [
    "uni_frq_edge = list()\n",
    "for x in range(universal_edge.shape[0]):\n",
    "    uni_frq_edge.append(np.hstack([universal_edge[x,:], freq_type_bonds_edge[x,:]]))"
   ]
  },
  {
   "cell_type": "code",
   "execution_count": null,
   "metadata": {},
   "outputs": [],
   "source": [
    "uni_frq_edge = np.array(uni_frq_edge)"
   ]
  },
  {
   "cell_type": "code",
   "execution_count": null,
   "metadata": {},
   "outputs": [],
   "source": [
    "uni_frq_edge.shape"
   ]
  },
  {
   "cell_type": "code",
   "execution_count": null,
   "metadata": {},
   "outputs": [],
   "source": [
    "#Use only Topological information\n",
    "\n",
    "#Simple K-mean\n",
    "\n",
    "kmeans_e = KMeans(n_clusters=10)\n",
    "kmeans_e.fit(uni_frq_edge)\n",
    "universal_class_edge = kmeans_e.predict(uni_frq_edge)\n",
    "\n",
    "centroids_e = kmeans_e.cluster_centers_"
   ]
  },
  {
   "cell_type": "code",
   "execution_count": null,
   "metadata": {},
   "outputs": [],
   "source": [
    "#Just for Visualization, plot 2D PCA embedding with points colored by classes\n",
    "\n",
    "\n",
    "pca = PCA(n_components=2)\n",
    "\n",
    "pca_n = pca.fit_transform(uni_frq_edge)\n",
    "\n",
    "#Colors for classes (at most 8)\n",
    "col = ['blue', 'red', 'black', 'yellow', 'orange', 'green', 'grey', 'brown', 'violet', 'yellow']\n",
    "\n",
    "\n",
    "cols = [col[e] for e in universal_class_edge]\n",
    "plt.scatter(np.ravel(pca_n[:,0]),np.ravel(pca_n[:,1]),  c= cols, s=100)\n",
    "_ = plt.title(\"2D-PCA of Edge Emebdding\")\n",
    "\n"
   ]
  },
  {
   "cell_type": "code",
   "execution_count": null,
   "metadata": {},
   "outputs": [],
   "source": [
    "j=0\n",
    "graph_to_edges = dict()\n",
    "for i in range(len(g_mol)):\n",
    "    #if (g_mol[i].number_of_nodes() > 10 and g_mol[i].number_of_nodes() < 100):\n",
    "    graph_to_edges[i] = np.arange(j, j + g_mol[i].number_of_edges())\n",
    "    j += g_mol[i].number_of_edges()"
   ]
  },
  {
   "cell_type": "code",
   "execution_count": null,
   "metadata": {},
   "outputs": [],
   "source": [
    "b = np.linspace(60,160, 50)"
   ]
  },
  {
   "cell_type": "code",
   "execution_count": null,
   "metadata": {},
   "outputs": [],
   "source": [
    "h, f, _ =  plt.hist(ran[1234], bins=b)"
   ]
  },
  {
   "cell_type": "code",
   "execution_count": null,
   "metadata": {},
   "outputs": [],
   "source": [
    "h, f, _ =  plt.hist(rane[1234], bins=b)"
   ]
  },
  {
   "cell_type": "code",
   "execution_count": null,
   "metadata": {},
   "outputs": [],
   "source": [
    "#Molecule sizes frequency\n",
    "\n",
    "dims = [t.number_of_nodes() for t in g_mol]\n",
    "_ = plt.hist(dims, bins=100)\n",
    "_ = plt.title(\"Molecule sizes frequency\")"
   ]
  },
  {
   "cell_type": "code",
   "execution_count": null,
   "metadata": {},
   "outputs": [],
   "source": []
  },
  {
   "cell_type": "code",
   "execution_count": null,
   "metadata": {},
   "outputs": [],
   "source": [
    "b = np.linspace(0.4,1, 10)"
   ]
  },
  {
   "cell_type": "code",
   "execution_count": null,
   "metadata": {},
   "outputs": [],
   "source": [
    "#Put toghether information of first approach\n",
    "\n",
    "x = list()\n",
    "for i in ran:\n",
    "    l = list()\n",
    "    h, _ = np.histogram(ran[i], bins=b)\n",
    "    h = list(h)\n",
    "    h.append(g_mol[i].number_of_nodes())\n",
    "    l = h\n",
    "\n",
    "    he, _ = np.histogram(rane[i], bins=b)\n",
    "    he = list(he)\n",
    "    he.append(g_mol[i].number_of_edges())\n",
    "    l.extend(he)\n",
    "    \n",
    "    #l.extend(at[i])\n",
    "    x.append(l)\n",
    "    \n",
    "    "
   ]
  },
  {
   "cell_type": "code",
   "execution_count": null,
   "metadata": {},
   "outputs": [],
   "source": [
    "a = np.array(x)"
   ]
  },
  {
   "cell_type": "code",
   "execution_count": null,
   "metadata": {},
   "outputs": [],
   "source": [
    "a.shape"
   ]
  },
  {
   "cell_type": "code",
   "execution_count": null,
   "metadata": {},
   "outputs": [],
   "source": [
    "pickle.dump(a, open(\"x_data.pickle\", \"wb\"))"
   ]
  },
  {
   "cell_type": "code",
   "execution_count": null,
   "metadata": {},
   "outputs": [],
   "source": [
    "x_data = a"
   ]
  },
  {
   "cell_type": "code",
   "execution_count": null,
   "metadata": {},
   "outputs": [],
   "source": [
    "x_data[0]"
   ]
  },
  {
   "cell_type": "code",
   "execution_count": null,
   "metadata": {},
   "outputs": [],
   "source": [
    "x_data.shape"
   ]
  },
  {
   "cell_type": "markdown",
   "metadata": {},
   "source": [
    "# Data with universal embedding #\n"
   ]
  },
  {
   "cell_type": "markdown",
   "metadata": {},
   "source": [
    "### Nodes ###"
   ]
  },
  {
   "cell_type": "code",
   "execution_count": null,
   "metadata": {},
   "outputs": [],
   "source": [
    "uni_frq.shape"
   ]
  },
  {
   "cell_type": "code",
   "execution_count": null,
   "metadata": {},
   "outputs": [],
   "source": [
    "universal_class.shape"
   ]
  },
  {
   "cell_type": "code",
   "execution_count": null,
   "metadata": {},
   "outputs": [],
   "source": [
    "one_hot_encoded = np.zeros((universal_points.shape[0], 10))\n",
    "for x in range(len(universal_points)):\n",
    "    one_hot_encoded[x][universal_class[x]] = 1"
   ]
  },
  {
   "cell_type": "code",
   "execution_count": null,
   "metadata": {},
   "outputs": [],
   "source": [
    "#Soft Encoded\n",
    "soft_encoded_node = np.zeros((uni_frq.shape[0], 10))\n",
    "for x in range(uni_frq.shape[0]):\n",
    "    for c in range(10):\n",
    "        soft_encoded_node[x,c] = np.exp( - (np.linalg.norm(uni_frq[x]- centroids_n[c], 2) ** 2) / 2)"
   ]
  },
  {
   "cell_type": "code",
   "execution_count": null,
   "metadata": {},
   "outputs": [],
   "source": [
    "#Normalize\n",
    "for x in soft_encoded_node:\n",
    "    x /= np.sum(x)"
   ]
  },
  {
   "cell_type": "code",
   "execution_count": null,
   "metadata": {},
   "outputs": [],
   "source": [
    "soft_encoded_node[1023]"
   ]
  },
  {
   "cell_type": "code",
   "execution_count": null,
   "metadata": {},
   "outputs": [],
   "source": [
    "one_hot_encoded[0]"
   ]
  },
  {
   "cell_type": "code",
   "execution_count": null,
   "metadata": {},
   "outputs": [],
   "source": [
    "plt.scatter(range(10), np.sum(one_hot_encoded, axis=0))"
   ]
  },
  {
   "cell_type": "code",
   "execution_count": null,
   "metadata": {},
   "outputs": [],
   "source": [
    "print(np.sum(one_hot_encoded, axis=0))"
   ]
  },
  {
   "cell_type": "code",
   "execution_count": null,
   "metadata": {},
   "outputs": [],
   "source": [
    "type(g_mol)"
   ]
  },
  {
   "cell_type": "code",
   "execution_count": null,
   "metadata": {},
   "outputs": [],
   "source": [
    "one_hot_encoded.shape"
   ]
  },
  {
   "cell_type": "code",
   "execution_count": null,
   "metadata": {},
   "outputs": [],
   "source": [
    "freq_type_bonds[5].shape"
   ]
  },
  {
   "cell_type": "code",
   "execution_count": null,
   "metadata": {},
   "outputs": [],
   "source": [
    "#Create data for each graph\n",
    "x_data_node = list()\n",
    "for i in range(len(g_mol)):\n",
    "    if (g_mol[i].number_of_nodes() > 10 and g_mol[i].number_of_nodes() < 100):\n",
    "        v = np.zeros((soft_encoded_node[0].shape[0]))\n",
    "        #v = np.zeros((one_hot_encoded[0].shape[0]))\n",
    "        for n in graph_to_points[i]:\n",
    "            v += soft_encoded_node[n]\n",
    "            #v += one_hot_encoded[n]\n",
    "        #x_data.append(np.hstack([v,t]))\n",
    "        x_data_node.append(v)\n",
    "x_data_node = np.array(x_data_node)\n",
    "x_data_node.shape"
   ]
  },
  {
   "cell_type": "markdown",
   "metadata": {},
   "source": [
    "### Edges ###"
   ]
  },
  {
   "cell_type": "code",
   "execution_count": null,
   "metadata": {},
   "outputs": [],
   "source": [
    "universal_class_edge.shape[0]"
   ]
  },
  {
   "cell_type": "code",
   "execution_count": null,
   "metadata": {},
   "outputs": [],
   "source": [
    "one_hot_encoded_edge = np.zeros((universal_class_edge.shape[0], 10))\n",
    "for x in range(len(universal_edge)):\n",
    "    one_hot_encoded_edge[x][universal_class_edge[x]] = 1"
   ]
  },
  {
   "cell_type": "code",
   "execution_count": null,
   "metadata": {},
   "outputs": [],
   "source": [
    "#Soft Encoded\n",
    "soft_encoded_edge = np.zeros((uni_frq_edge.shape[0], 10))\n",
    "for x in range(universal_edge.shape[0]):\n",
    "    for c in range(10):\n",
    "        soft_encoded_edge[x,c] = np.exp( - (np.linalg.norm(uni_frq_edge[x]- centroids_e[c], 2) ** 2) / 2)"
   ]
  },
  {
   "cell_type": "code",
   "execution_count": null,
   "metadata": {},
   "outputs": [],
   "source": [
    "for x in soft_encoded_edge:\n",
    "    x /= np.sum(x) "
   ]
  },
  {
   "cell_type": "code",
   "execution_count": null,
   "metadata": {},
   "outputs": [],
   "source": [
    "soft_encoded_edge[0]"
   ]
  },
  {
   "cell_type": "code",
   "execution_count": null,
   "metadata": {},
   "outputs": [],
   "source": [
    "universal_edge.shape"
   ]
  },
  {
   "cell_type": "code",
   "execution_count": null,
   "metadata": {},
   "outputs": [],
   "source": [
    "#Look at the edge class frequency\n",
    "plt.scatter(range(10), np.sum(one_hot_encoded_edge, axis=0))"
   ]
  },
  {
   "cell_type": "code",
   "execution_count": null,
   "metadata": {},
   "outputs": [],
   "source": [
    "np.sum(one_hot_encoded, axis=0)"
   ]
  },
  {
   "cell_type": "code",
   "execution_count": null,
   "metadata": {},
   "outputs": [],
   "source": [
    "freq_type_bonds_edge[0]"
   ]
  },
  {
   "cell_type": "code",
   "execution_count": null,
   "metadata": {},
   "outputs": [],
   "source": [
    "#Create edge data for each graph\n",
    "x_data_edge = list()\n",
    "for i in range(len(g_mol)):\n",
    "    if (g_mol[i].number_of_nodes() > 10 and g_mol[i].number_of_nodes() < 100):\n",
    "        v = np.zeros((soft_encoded_edge[0].shape[0]))\n",
    "        #v = np.zeros((one_hot_encoded_edge[0].shape[0]))\n",
    "        for n in graph_to_edges[i]:\n",
    "            v += soft_encoded_edge[n]\n",
    "            #v += one_hot_encoded_edge[n]\n",
    "        x_data_edge.append(v)\n",
    "x_data_edge = np.array(x_data_edge)\n",
    "x_data_edge.shape"
   ]
  },
  {
   "cell_type": "code",
   "execution_count": null,
   "metadata": {},
   "outputs": [],
   "source": [
    "x_data = np.hstack([x_data_node, x_data_edge])"
   ]
  },
  {
   "cell_type": "code",
   "execution_count": null,
   "metadata": {},
   "outputs": [],
   "source": [
    "x_data.shape"
   ]
  },
  {
   "cell_type": "code",
   "execution_count": null,
   "metadata": {},
   "outputs": [],
   "source": [
    "a = np.ones(5)"
   ]
  },
  {
   "cell_type": "code",
   "execution_count": null,
   "metadata": {},
   "outputs": [],
   "source": [
    "x_data -= np.mean(x_data, axis=0)\n",
    "x_data /= (np.max(x_data, axis=0) - np.min(x_data, axis=0))"
   ]
  },
  {
   "cell_type": "markdown",
   "metadata": {},
   "source": [
    "# Classification Model #"
   ]
  },
  {
   "cell_type": "code",
   "execution_count": null,
   "metadata": {},
   "outputs": [],
   "source": [
    "#Prepare y_data\n",
    "y_data = list()\n",
    "for i in range(df.shape[0]):\n",
    "    if (g_mol[i].number_of_nodes() > 10 and g_mol[i].number_of_nodes() < 100):\n",
    "        y_data.append(df.iloc[i]['HIV_active'])\n",
    "y_data = np.array(y_data)\n",
    "y_data.shape"
   ]
  },
  {
   "cell_type": "code",
   "execution_count": null,
   "metadata": {},
   "outputs": [],
   "source": [
    "import random"
   ]
  },
  {
   "cell_type": "code",
   "execution_count": null,
   "metadata": {},
   "outputs": [],
   "source": [
    "f = np.arange(41023)\n",
    "random.Random(10).shuffle(f)\n",
    "train = f[:35000]"
   ]
  },
  {
   "cell_type": "code",
   "execution_count": null,
   "metadata": {},
   "outputs": [],
   "source": [
    "#f[35000:35010]"
   ]
  },
  {
   "cell_type": "code",
   "execution_count": null,
   "metadata": {},
   "outputs": [],
   "source": [
    "\n",
    "\n",
    "#np.random.seed=np.random.randint(0,123456)\n",
    "np.random.shuffle(train)\n",
    "\n",
    "\n",
    "\n",
    "i_train = train[:29000]\n",
    "i_val = train[29000:35000]\n",
    "i_test = f[35000:]\n",
    "\n",
    "x_train = x_data[i_train, :]\n",
    "x_val = x_data[i_val, :] \n",
    "\n",
    "y_train = y_data[i_train]\n",
    "y_val = y_data[i_val]\n",
    "\n",
    "x_test = np.array([np.array(x_data[i,:]) for i in f[35000:]])\n",
    "y_test = np.array([y_data[i] for i in f[35000:]])"
   ]
  },
  {
   "cell_type": "code",
   "execution_count": null,
   "metadata": {},
   "outputs": [],
   "source": [
    "set(f[35000:]).intersection(set(f[:35000]))"
   ]
  },
  {
   "cell_type": "code",
   "execution_count": null,
   "metadata": {},
   "outputs": [],
   "source": [
    "y_train.shape"
   ]
  },
  {
   "cell_type": "code",
   "execution_count": null,
   "metadata": {},
   "outputs": [],
   "source": [
    "from numpy import loadtxt\n",
    "from keras.models import Sequential\n",
    "from keras.layers import Dense, Dropout, BatchNormalization\n",
    "from keras import optimizers\n",
    "\n",
    "from sklearn.metrics import roc_auc_score"
   ]
  },
  {
   "cell_type": "code",
   "execution_count": null,
   "metadata": {},
   "outputs": [],
   "source": [
    "Dropout"
   ]
  },
  {
   "cell_type": "code",
   "execution_count": null,
   "metadata": {},
   "outputs": [],
   "source": [
    "## # define the keras model\n",
    "model = Sequential()\n",
    "\n",
    "model.add(Dense(32, activation='relu'))\n",
    "model.add(Dropout(rate=0.4))\n",
    "model.add(BatchNormalization())\n",
    "\n",
    "model.add(Dense(64, activation='relu'))\n",
    "model.add(Dropout(rate=0.4))\n",
    "model.add(BatchNormalization())\n",
    "\n",
    "model.add(Dense(1, activation='sigmoid'))"
   ]
  },
  {
   "cell_type": "code",
   "execution_count": null,
   "metadata": {},
   "outputs": [],
   "source": [
    "adam = optimizers.Adam(lr=0.001)\n",
    "model.compile(loss='binary_crossentropy', optimizer=adam, metrics=['accuracy'])"
   ]
  },
  {
   "cell_type": "code",
   "execution_count": null,
   "metadata": {},
   "outputs": [],
   "source": [
    "\n",
    "model.fit(x_train, y_train, epochs=500,validation_data=(x_val, y_val), batch_size=128)"
   ]
  },
  {
   "cell_type": "code",
   "execution_count": null,
   "metadata": {},
   "outputs": [],
   "source": [
    "\n",
    "# evaluate the keras model\n",
    "\n",
    "pe, accuracy = model.evaluate(x_val, y_val)\n",
    "print('Accuracy: %.2f' % (accuracy*100))\n",
    "\n"
   ]
  },
  {
   "cell_type": "code",
   "execution_count": null,
   "metadata": {},
   "outputs": [],
   "source": [
    "p_train = model.predict(x_train)\n",
    "p_val = model.predict(x_val)\n",
    "p_test = model.predict(x_test)\n",
    "\n",
    "print(\" Train AUC-ROC :\")\n",
    "print(roc_auc_score(y_train, p_train))\n",
    "\n",
    "print(\" Valid AUC-ROC :\")\n",
    "print(roc_auc_score(y_val, p_val))\n",
    "\n",
    "print(\" Test AUC-ROC :\")\n",
    "print(roc_auc_score(y_test, p_test))"
   ]
  },
  {
   "cell_type": "code",
   "execution_count": null,
   "metadata": {},
   "outputs": [],
   "source": []
  },
  {
   "cell_type": "code",
   "execution_count": null,
   "metadata": {},
   "outputs": [],
   "source": [
    "\"\"\"\n",
    "Script that trains multitask models on hiv dataset.\n",
    "\"\"\"\n",
    "from __future__ import print_function\n",
    "from __future__ import division\n",
    "from __future__ import unicode_literals\n",
    "\n",
    "import numpy as np\n",
    "import deepchem as dc\n",
    "from deepchem.molnet import load_hiv\n",
    "\n",
    "# Only for debug!\n",
    "np.random.seed(123)\n",
    "\n",
    "# Load hiv dataset\n",
    "n_features = 512\n",
    "hiv_tasks, hiv_datasets, transformers = load_hiv()\n",
    "train_dataset, valid_dataset, test_dataset = hiv_datasets\n",
    "\n",
    "# Fit models\n",
    "metric = dc.metrics.Metric(dc.metrics.roc_auc_score, np.mean)\n",
    "\n",
    "transformer = dc.trans.IRVTransformer(10, len(hiv_tasks), train_dataset)\n",
    "train_dataset = transformer.transform(train_dataset)\n",
    "valid_dataset = transformer.transform(valid_dataset)\n",
    "\n",
    "model = dc.models.TensorflowMultitaskIRVClassifier(\n",
    "    len(hiv_tasks), K=10, batch_size=50, learning_rate=0.001)\n",
    "\n",
    "# Fit trained model\n",
    "model.fit(train_dataset)\n",
    "\n",
    "print(\"Evaluating model\")\n",
    "train_scores = model.evaluate(train_dataset, [metric], transformers)\n",
    "valid_scores = model.evaluate(valid_dataset, [metric], transformers)\n",
    "\n",
    "print(\"Train scores\")\n",
    "print(train_scores)\n",
    "\n",
    "print(\"Validation scores\")\n",
    "print(valid_scores)"
   ]
  },
  {
   "cell_type": "code",
   "execution_count": null,
   "metadata": {},
   "outputs": [],
   "source": [
    "train_dataset, valid_dataset, test_dataset = hiv_datasets"
   ]
  },
  {
   "cell_type": "code",
   "execution_count": null,
   "metadata": {},
   "outputs": [],
   "source": [
    "test_dataset = transformer.transform(test_dataset)\n",
    "test_scores = model.evaluate(test_dataset, [metric], transformers)"
   ]
  },
  {
   "cell_type": "code",
   "execution_count": null,
   "metadata": {},
   "outputs": [],
   "source": [
    "test_dataset.X.shape"
   ]
  },
  {
   "cell_type": "code",
   "execution_count": null,
   "metadata": {},
   "outputs": [],
   "source": [
    "print(test_scores)"
   ]
  },
  {
   "cell_type": "code",
   "execution_count": null,
   "metadata": {},
   "outputs": [],
   "source": [
    "train_dataset.ids"
   ]
  },
  {
   "cell_type": "code",
   "execution_count": null,
   "metadata": {},
   "outputs": [],
   "source": [
    "sum(train_dataset.y)"
   ]
  },
  {
   "cell_type": "code",
   "execution_count": null,
   "metadata": {},
   "outputs": [],
   "source": [
    "valid_dataset.ids"
   ]
  },
  {
   "cell_type": "code",
   "execution_count": null,
   "metadata": {},
   "outputs": [],
   "source": [
    "sum(valid_dataset.y)"
   ]
  },
  {
   "cell_type": "code",
   "execution_count": null,
   "metadata": {},
   "outputs": [],
   "source": [
    "test_dataset.X.shape"
   ]
  },
  {
   "cell_type": "code",
   "execution_count": null,
   "metadata": {},
   "outputs": [],
   "source": [
    "len(y_test)"
   ]
  },
  {
   "cell_type": "code",
   "execution_count": null,
   "metadata": {},
   "outputs": [],
   "source": []
  }
 ],
 "metadata": {
  "kernelspec": {
   "display_name": "thesis",
   "language": "python",
   "name": "thesis"
  },
  "language_info": {
   "codemirror_mode": {
    "name": "ipython",
    "version": 3
   },
   "file_extension": ".py",
   "mimetype": "text/x-python",
   "name": "python",
   "nbconvert_exporter": "python",
   "pygments_lexer": "ipython3",
   "version": "3.7.4"
  }
 },
 "nbformat": 4,
 "nbformat_minor": 2
}
